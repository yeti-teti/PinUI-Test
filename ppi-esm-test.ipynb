{
 "cells": [
  {
   "cell_type": "code",
   "execution_count": 55,
   "id": "8f63396a",
   "metadata": {},
   "outputs": [],
   "source": [
    "import numpy as np\n",
    "import pandas as pd\n",
    "from scipy.optimize import linear_sum_assignment\n",
    "\n",
    "import torch\n",
    "import torch.nn as nn\n",
    "\n",
    "from transformers import AutoTokenizer, EsmForMaskedLM\n",
    "\n",
    "from tqdm import tqdm"
   ]
  },
  {
   "cell_type": "markdown",
   "id": "898c2df8",
   "metadata": {},
   "source": [
    "## PPI ESM Test"
   ]
  },
  {
   "cell_type": "code",
   "execution_count": 12,
   "id": "9d989020",
   "metadata": {},
   "outputs": [],
   "source": [
    "# Initializing model and tokenizer\n",
    "tokenizer = AutoTokenizer.from_pretrained(\"facebook/esm2_t6_8M_UR50D\")\n",
    "model = EsmForMaskedLM.from_pretrained(\"facebook/esm2_t6_8M_UR50D\")"
   ]
  },
  {
   "cell_type": "code",
   "execution_count": 13,
   "id": "3ced3a33",
   "metadata": {},
   "outputs": [],
   "source": [
    "# Setting up GPU\n",
    "device = torch.device(\"cuda\" if torch.cuda.is_available() else \"cpu\")\n",
    "model = model.to(device)"
   ]
  },
  {
   "cell_type": "code",
   "execution_count": 14,
   "id": "ab1a73d7",
   "metadata": {},
   "outputs": [],
   "source": [
    "# Defining the Protein Sequence\n",
    "all_proteins = [\n",
    "    \"MEESQSELNIDPPLSQETFSELWNLLPENNVLSSELCPAVDELLLPESVVNWLDEDSDDAPRMPATSAPTAPGPAPSWPLSSSVPSPKTYPGTYGFRLGFLHSGTAKSVTWTYSPLLNKLFCQLAKTCPVQLWVSSPPPPNTCVRAMAIYKKSEFVTEVVRRCPHHERCSDSSDGLAPPQHLIRVEGNLRAKYLDDRNTFRHSVVVPYEPPEVGSDYTTIHYNYMCNSSCMGGMNRRPILTIITLEDSSGNVLGRNSFEVRVCACPGRDRRTEEENFHKKGEPCPEPPPGSTKRALPPSTSSSPPQKKKPLDGEYFTLQIRGRERYEMFRNLNEALELKDAQSGKEPGGSRAHSSHLKAKKGQSTSRHKKLMFKREGLDSD\",\n",
    "    \"MCNTNMSVPTDGAVTTSQIPASEQETLVRPKPLLLKLLKSVGAQKDTYTMKEVLFYLGQYIMTKRLYDEKQQHIVYCSNDLLGDLFGVPSFSVKEHRKIYTMIYRNLVVVNQQESSDSGTSVSENRCHLEGGSDQKDLVQELQEEKPSSSHLVSRPSTSSRRRAISETEENSDELSGERQRKRHKSDSISLSFDESLALCVIREICCERSSSSESTGTPSNPDLDAGVSEHSGDWLDQDSVSDQFSVEFEVESLDSEDYSLSEEGQELSDEDDEVYQVTVYQAGESDTDSFEEDPEISLADYWKCTSCNEMNPPLPSHCNRCWALRENWLPEDKGKDKGEISEKAKLENSTQAEEGFDVPDCKKTIVNDSRESCVEENDDKITQASQSQESEDYSQPSTSSSIIYSSQEDVKEFEREETQDKEESVESSLPLNAIEPCVICQGRPKNGCIVHGKTGHLMACFTCAKKLKKRNKPCPVCRQPIQMIVLTYFP\",\n",
    "    \"MNRGVPFRHLLLVLQLALLPAATQGKKVVLGKKGDTVELTCTASQKKSIQFHWKNSNQIKILGNQGSFLTKGPSKLNDRADSRRSLWDQGNFPLIIKNLKIEDSDTYICEVEDQKEEVQLLVFGLTANSDTHLLQGQSLTLTLESPPGSSPSVQCRSPRGKNIQGGKTLSVSQLELQDSGTWTCTVLQNQKKVEFKIDIVVLAFQKASSIVYKKEGEQVEFSFPLAFTVEKLTGSGELWWQAERASSSKSWITFDLKNKEVSVKRVTQDPKLQMGKKLPLHLTLPQALPQYAGSGNLTLALEAKTGKLHQEVNLVVMRATQLQKNLTCEVWGPTSPKLMLSLKLENKEAKVSKREKAVWVLNPEAGMWQCLLSDSGQVLLESNIKVLPTWSTPVQPMALIVLGGVAGLLLFIGLGIFFCVRCRHRRRQAERMSQIKRLLSEKKTCQCPHRFQKTCSPI\",\n",
    "    \"MRVKEKYQHLWRWGWKWGTMLLGILMICSATEKLWVTVYYGVPVWKEATTTLFCASDAKAYDTEVHNVWATHACVPTDPNPQEVVLVNVTENFNMWKNDMVEQMHEDIISLWDQSLKPCVKLTPLCVSLKCTDLGNATNTNSSNTNSSSGEMMMEKGEIKNCSFNISTSIRGKVQKEYAFFYKLDIIPIDNDTTSYTLTSCNTSVITQACPKVSFEPIPIHYCAPAGFAILKCNNKTFNGTGPCTNVSTVQCTHGIRPVVSTQLLLNGSLAEEEVVIRSANFTDNAKTIIVQLNQSVEINCTRPNNNTRKSIRIQRGPGRAFVTIGKIGNMRQAHCNISRAKWNATLKQIASKLREQFGNNKTIIFKQSSGGDPEIVTHSFNCGGEFFYCNSTQLFNSTWFNSTWSTEGSNNTEGSDTITLPCRIKQFINMWQEVGKAMYAPPISGQIRCSSNITGLLLTRDGGNNNNGSEIFRPGGGDMRDNWRSELYKYKVVKIEPLGVAPTKAKRRVVQREKRAVGIGALFLGFLGAAGSTMGARSMTLTVQARQLLSGIVQQQNNLLRAIEAQQHLLQLTVWGIKQLQARILAVERYLKDQQLLGIWGCSGKLICTTAVPWNASWSNKSLEQIWNNMTWMEWDREINNYTSLIHSLIEESQNQQEKNEQELLELDKWASLWNWFNITNWLWYIKIFIMIVGGLVGLRIVFAVLSIVNRVRQGYSPLSFQTHLPTPRGPDRPEGIEEEGGERDRDRSIRLVNGSLALIWDDLRSLCLFSYHRLRDLLLIVTRIVELLGRRGWEALKYWWNLLQYWSQELKNSAVSLLNATAIAVAEGTDRVIEVVQGACRAIRHIPRRIRQGLERILL\",\n",
    "    \"MALWMRLLPLLALLALWGPDPAAAFVNQHLCGSHLVEALYLVCGERGFFYTPKTRREAEDLQVGQVELGGGPGAGSLQPLALEGSLQKRGIVEQCCTSICSLYQLENYCN\", \n",
    "    \"MATGGRRGAAAAPLLVAVAALLLGAAGHLYPGEVCPGMDIRNNLTRLHELENCSVIEGHLQILLMFKTRPEDFRDLSFPKLIMITDYLLLFRVYGLESLKDLFPNLTVIRGSRLFFNYALVIFEMVHLKELGLYNLMNITRGSVRIEKNNELCYLATIDWSRILDSVEDNYIVLNKDDNEECGDICPGTAKGKTNCPATVINGQFVERCWTHSHCQKVCPTICKSHGCTAEGLCCHSECLGNCSQPDDPTKCVACRNFYLDGRCVETCPPPYYHFQDWRCVNFSFCQDLHHKCKNSRRQGCHQYVIHNNKCIPECPSGYTMNSSNLLCTPCLGPCPKVCHLLEGEKTIDSVTSAQELRGCTVINGSLIINIRGGNNLAAELEANLGLIEEISGYLKIRRSYALVSLSFFRKLRLIRGETLEIGNYSFYALDNQNLRQLWDWSKHNLTITQGKLFFHYNPKLCLSEIHKMEEVSGTKGRQERNDIALKTNGDQASCENELLKFSYIRTSFDKILLRWEPYWPPDFRDLLGFMLFYKEAPYQNVTEFDGQDACGSNSWTVVDIDPPLRSNDPKSQNHPGWLMRGLKPWTQYAIFVKTLVTFSDERRTYGAKSDIIYVQTDATNPSVPLDPISVSNSSSQIILKWKPPSDPNGNITHYLVFWERQAEDSELFELDYCLKGLKLPSRTWSPPFESEDSQKHNQSEYEDSAGECCSCPKTDSQILKELEESSFRKTFEDYLHNVVFVPRKTSSGTGAEDPRPSRKRRSLGDVGNVTVAVPTVAAFPNTSSTSVPTSPEEHRPFEKVVNKESLVISGLRHFTGYRIELQACNQDTPEERCSVAAYVSARTMPEAKADDIVGPVTHEIFENNVVHLMWQEPKEPNGLIVLYEVSYRRYGDEELHLCVSRKHFALERGCRLRGLSPGNYSVRIRATSLAGNGSWTEPTYFYVTDYLDVPSNIAKIIIGPLIFVFLFSVVIGSIYLFLRKRQPDGPLGPLYASSNPEYLSASDVFPCSVYVPDEWEVSR\" \n",
    "]  # A list of protein sequences"
   ]
  },
  {
   "cell_type": "code",
   "execution_count": 20,
   "id": "f75091cf",
   "metadata": {},
   "outputs": [],
   "source": [
    "# Defining the MLM Loss Function\n",
    "BATCH_SIZE = 2\n",
    "NUM_MASKS = 10\n",
    "P_MASK = 0.15\n",
    "\n",
    "# Compute the MLM loss for a batch of protein pairs\n",
    "def compute_mlm_loss_batch(pairs):\n",
    "    avg_losses = []\n",
    "    for _ in range(NUM_MASKS):\n",
    "\n",
    "        # Tokenize the concatenated protein pairs\n",
    "        inputs = tokenizer(pairs, return_tensors=\"pt\", truncation=True, padding=True, max_length=1022)\n",
    "        \n",
    "        # Moving to Device\n",
    "        inputs = {k: v.to(device) for k, v, in inputs.items()}\n",
    "\n",
    "        # Get mask token ID\n",
    "        mask_token_id = tokenizer.mask_token_id\n",
    "\n",
    "        # Clone input IDs for labels\n",
    "        labels = inputs[\"input_ids\"].clone()\n",
    "\n",
    "        # Randomly mask 15% of the AA residues for each sequence in the batch\n",
    "        for idx in range(inputs[\"input_ids\"].shape[0]):\n",
    "            mask_indices = np.random.choice(inputs[\"input_ids\"].shape[1], size=int(P_MASK * inputs[\"input_ids\"].shape[1]), replace=False)\n",
    "            inputs[\"input_ids\"][idx, mask_indices] = mask_token_id\n",
    "            labels[idx, [i for i in range(inputs[\"input_ids\"].shape[1]) if i not in mask_indices]] = -100\n",
    "        \n",
    "        # Compute the MLM loss\n",
    "        outputs = model(**inputs, labels=labels)\n",
    "        avg_losses.append(outputs.loss.item())\n",
    "    \n",
    "    # Return avg loss for the batch\n",
    "    return sum(avg_losses) / NUM_MASKS\n"
   ]
  },
  {
   "cell_type": "code",
   "execution_count": 21,
   "id": "fe2aed7f",
   "metadata": {},
   "outputs": [],
   "source": [
    "# Constructing the loss matrix\n",
    "loss_matrix = np.zeros((len(all_proteins), len(all_proteins)))\n",
    "\n",
    "for i in range(len(all_proteins)):\n",
    "    for j in range(i+1, len(all_proteins), BATCH_SIZE):\n",
    "        pairs = [all_proteins[i] + all_proteins[k] for k in range(j, min(j+BATCH_SIZE, len(all_proteins)))]\n",
    "        batch_loss = compute_mlm_loss_batch(pairs)\n",
    "        for k in range(len(pairs)):\n",
    "            loss_matrix[i, j+k] = batch_loss\n",
    "            loss_matrix[j+k, i] = batch_loss\n",
    "\n",
    "np.fill_diagonal(loss_matrix, np.inf)"
   ]
  },
  {
   "cell_type": "code",
   "execution_count": 22,
   "id": "72642de6",
   "metadata": {},
   "outputs": [
    {
     "name": "stdout",
     "output_type": "stream",
     "text": [
      "[(0, 1), (1, 0), (2, 5), (3, 4), (4, 3), (5, 2)]\n"
     ]
    }
   ],
   "source": [
    "# Finding optimal pairs\n",
    "rows, cols = linear_sum_assignment(loss_matrix)\n",
    "optimal_pairs = list(zip(rows, cols))\n",
    "\n",
    "print(optimal_pairs)"
   ]
  },
  {
   "cell_type": "markdown",
   "id": "60dced22",
   "metadata": {},
   "source": [
    "### Load PiNUI human data"
   ]
  },
  {
   "cell_type": "code",
   "execution_count": 48,
   "id": "6e63f222",
   "metadata": {},
   "outputs": [
    {
     "data": {
      "text/html": [
       "<div>\n",
       "<style scoped>\n",
       "    .dataframe tbody tr th:only-of-type {\n",
       "        vertical-align: middle;\n",
       "    }\n",
       "\n",
       "    .dataframe tbody tr th {\n",
       "        vertical-align: top;\n",
       "    }\n",
       "\n",
       "    .dataframe thead th {\n",
       "        text-align: right;\n",
       "    }\n",
       "</style>\n",
       "<table border=\"1\" class=\"dataframe\">\n",
       "  <thead>\n",
       "    <tr style=\"text-align: right;\">\n",
       "      <th></th>\n",
       "      <th>seqA</th>\n",
       "      <th>seqB</th>\n",
       "      <th>interaction</th>\n",
       "    </tr>\n",
       "  </thead>\n",
       "  <tbody>\n",
       "    <tr>\n",
       "      <th>0</th>\n",
       "      <td>MKRRASDRGAGETSARAKALGSGISGNNAKRAGPFILGPRLGNSPV...</td>\n",
       "      <td>MAASAARGAAALRRSINQPVAFVRRIPWTAASSQLKEHFAQFGHVR...</td>\n",
       "      <td>1</td>\n",
       "    </tr>\n",
       "    <tr>\n",
       "      <th>1</th>\n",
       "      <td>MEAPSGSEPGGDGAGDCAHPDPRAPGAAAPSSGPGPCAAARESERQ...</td>\n",
       "      <td>MKLFHTADWHLGKLVHGVYMTEDQKIVLDQFVQAVEEEKPDAVIIA...</td>\n",
       "      <td>1</td>\n",
       "    </tr>\n",
       "    <tr>\n",
       "      <th>2</th>\n",
       "      <td>MDQNSVPEKAQNEADTNNADRFFRSHSSPPHHRPGHSRALHHYELH...</td>\n",
       "      <td>MTHCCSPCCQPTCCRTTCWQPTTVTTCSSTPCCQPSCCVSSCCQPC...</td>\n",
       "      <td>1</td>\n",
       "    </tr>\n",
       "    <tr>\n",
       "      <th>3</th>\n",
       "      <td>MFADLDYDIEEDKLGIPTVPGKVTLQKDAQNLIGISIGGGAQYCPC...</td>\n",
       "      <td>MARTLRPSPLCPGGGKAQLSSASLLGAGLLLQPPTPPPLLLLLFPL...</td>\n",
       "      <td>1</td>\n",
       "    </tr>\n",
       "    <tr>\n",
       "      <th>4</th>\n",
       "      <td>MAEGNHRKKPLKVLESLGKDFLTGVLDNLVEQNVLNWKEEEKKKYY...</td>\n",
       "      <td>MASADSRRVADGGGAGGTFQPYLDTLRQELQQTDPTLLSVVVAVLA...</td>\n",
       "      <td>1</td>\n",
       "    </tr>\n",
       "  </tbody>\n",
       "</table>\n",
       "</div>"
      ],
      "text/plain": [
       "                                                seqA  \\\n",
       "0  MKRRASDRGAGETSARAKALGSGISGNNAKRAGPFILGPRLGNSPV...   \n",
       "1  MEAPSGSEPGGDGAGDCAHPDPRAPGAAAPSSGPGPCAAARESERQ...   \n",
       "2  MDQNSVPEKAQNEADTNNADRFFRSHSSPPHHRPGHSRALHHYELH...   \n",
       "3  MFADLDYDIEEDKLGIPTVPGKVTLQKDAQNLIGISIGGGAQYCPC...   \n",
       "4  MAEGNHRKKPLKVLESLGKDFLTGVLDNLVEQNVLNWKEEEKKKYY...   \n",
       "\n",
       "                                                seqB  interaction  \n",
       "0  MAASAARGAAALRRSINQPVAFVRRIPWTAASSQLKEHFAQFGHVR...            1  \n",
       "1  MKLFHTADWHLGKLVHGVYMTEDQKIVLDQFVQAVEEEKPDAVIIA...            1  \n",
       "2  MTHCCSPCCQPTCCRTTCWQPTTVTTCSSTPCCQPSCCVSSCCQPC...            1  \n",
       "3  MARTLRPSPLCPGGGKAQLSSASLLGAGLLLQPPTPPPLLLLLFPL...            1  \n",
       "4  MASADSRRVADGGGAGGTFQPYLDTLRQELQQTDPTLLSVVVAVLA...            1  "
      ]
     },
     "execution_count": 48,
     "metadata": {},
     "output_type": "execute_result"
    }
   ],
   "source": [
    "data = pd.read_csv(\"./data/PiNUI-human.csv\")\n",
    "data.head()"
   ]
  },
  {
   "cell_type": "code",
   "execution_count": 53,
   "id": "b34e1e38",
   "metadata": {},
   "outputs": [
    {
     "data": {
      "text/plain": [
       "30263"
      ]
     },
     "execution_count": 53,
     "metadata": {},
     "output_type": "execute_result"
    }
   ],
   "source": [
    "# Get the sequences\n",
    "all_proteins = list(set(data['seqA']).union(set(data['seqB'])))\n",
    "N = len(all_proteins)\n",
    "N"
   ]
  },
  {
   "cell_type": "code",
   "execution_count": null,
   "id": "3a8d75ec",
   "metadata": {},
   "outputs": [
    {
     "name": "stderr",
     "output_type": "stream",
     "text": [
      "  0%|          | 0/3577418 [00:00<?, ?it/s]"
     ]
    }
   ],
   "source": [
    "# Mapping indices to avoid recomputing\n",
    "protein_to_idx = {protein: idx for idx, protein in enumerate(all_proteins)}\n",
    "# Constructing the loss matrix\n",
    "loss_matrix = np.full((N, N), np.inf)\n",
    "\n",
    "# Generate all upper traingle indices (excluding diagonal)\n",
    "i_indices, j_indices = np.triu_indices(N, k=1)\n",
    "\n",
    "BATCH_SIZE = 128\n",
    "for batch_start in tqdm(range(0, len(i_indices), BATCH_SIZE)):\n",
    "    batch_end = min(batch_start + BATCH_SIZE, len(i_indices))\n",
    "    i_batch = i_indices[batch_start:batch_end]\n",
    "    j_batch = j_indices[batch_start:batch_end]\n",
    "\n",
    "    # Concatenate protein pairs\n",
    "    pairs = [all_proteins[i] + all_proteins[j] for i, j in zip(i_batch, j_batch)]\n",
    "\n",
    "    # Compute losses in batch\n",
    "    batch_losses = compute_mlm_loss_batch(pairs)\n",
    "\n",
    "    # Fill upper and lower traingles\n",
    "    for idx, (i, j) in enumerate(zip(i_batch, j_batch)):\n",
    "        loss = batch_loss[idx]\n",
    "        loss_matrix[i, j] = loss\n",
    "        loss_matrix[j, i] = loss"
   ]
  },
  {
   "cell_type": "code",
   "execution_count": null,
   "id": "26d76d15",
   "metadata": {},
   "outputs": [],
   "source": [
    "# Find optimal assignment\n",
    "rows, cols = linear_sum_assignment(loss_matrix)\n",
    "optimal_pairs = list(zip(rows, cols))\n",
    "\n",
    "print(optimal_pairs)\n"
   ]
  },
  {
   "cell_type": "code",
   "execution_count": null,
   "id": "a22c1073",
   "metadata": {},
   "outputs": [],
   "source": [
    "tokenizer = AutoTokenizer.from_pretrained(\"facebook/esm2_t6_8M_UR50D\")\n",
    "esm_model = AutoModel.from_pretrained(\"facebook/esm2_t6_8M_UR50D\")\n",
    "print(esm_model.config.hidden_size)\n",
    "\n",
    "dummy_sequence = \"MYPROTEINSEQUENCE\"\n",
    "encoded = tokenizer(dummy_sequence, return_tensors=\"pt\", truncation=True, max_length=1022)\n",
    "with torch.no_grad():\n",
    "    outputs = esm_model(**encoded)\n",
    "print(outputs.last_hidden_state.shape)  #  (1, sequence_length, hidden_size)\n",
    "\n",
    "pooled = outputs.last_hidden_state.mean(dim=1)  # Now shape (1, hidden_size)\n",
    "print(pooled.shape)"
   ]
  },
  {
   "cell_type": "code",
   "execution_count": null,
   "id": "0f26a3d8",
   "metadata": {},
   "outputs": [],
   "source": []
  },
  {
   "cell_type": "code",
   "execution_count": null,
   "id": "01571b22",
   "metadata": {},
   "outputs": [],
   "source": []
  },
  {
   "cell_type": "code",
   "execution_count": null,
   "id": "bc1a7692",
   "metadata": {},
   "outputs": [],
   "source": []
  },
  {
   "cell_type": "code",
   "execution_count": null,
   "id": "dba58993",
   "metadata": {},
   "outputs": [],
   "source": []
  }
 ],
 "metadata": {
  "kernelspec": {
   "display_name": "shiru",
   "language": "python",
   "name": "python3"
  },
  "language_info": {
   "codemirror_mode": {
    "name": "ipython",
    "version": 3
   },
   "file_extension": ".py",
   "mimetype": "text/x-python",
   "name": "python",
   "nbconvert_exporter": "python",
   "pygments_lexer": "ipython3",
   "version": "3.11.8"
  }
 },
 "nbformat": 4,
 "nbformat_minor": 5
}
